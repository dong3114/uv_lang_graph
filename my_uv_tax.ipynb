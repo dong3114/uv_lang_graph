{
 "cells": [
  {
   "cell_type": "code",
   "execution_count": 9,
   "id": "f3ef4252",
   "metadata": {},
   "outputs": [
    {
     "data": {
      "text/plain": [
       "True"
      ]
     },
     "execution_count": 9,
     "metadata": {},
     "output_type": "execute_result"
    }
   ],
   "source": [
    "from textwrap import dedent     # tap(들여쓰기)에 상관없이 쓸 수 있게.\n",
    "from pprint import pprint\n",
    "from langgraph.graph import StateGraph, START, END\n",
    "from IPython.display import Image, display\n",
    "from typing import TypedDict\n",
    "from typing import Literal\n",
    "import os\n",
    "from dotenv import load_dotenv\n",
    "from langchain_chroma import Chroma\n",
    "load_dotenv()"
   ]
  },
  {
   "cell_type": "code",
   "execution_count": 6,
   "id": "c717dec7",
   "metadata": {},
   "outputs": [
    {
     "data": {
      "text/plain": [
       "80"
      ]
     },
     "execution_count": 6,
     "metadata": {},
     "output_type": "execute_result"
    }
   ],
   "source": [
    "from langchain_community.document_loaders import Docx2txtLoader\n",
    "from langchain_text_splitters import RecursiveCharacterTextSplitter\n",
    "\n",
    "text_splitter = RecursiveCharacterTextSplitter(\n",
    "    chunk_size=1500,\n",
    "    chunk_overlap=200,\n",
    ")\n",
    "\n",
    "loader = Docx2txtLoader('./tax.docx')\n",
    "temp = loader.load_and_split(text_splitter=text_splitter)\n",
    "\n",
    "document_list = temp[0:80]\n",
    "len(document_list)"
   ]
  },
  {
   "cell_type": "code",
   "execution_count": 7,
   "id": "583e1ca4",
   "metadata": {},
   "outputs": [],
   "source": [
    "from langchain_openai import OpenAIEmbeddings\n",
    "\n",
    "embedding = OpenAIEmbeddings(model='text-embedding-3-large')"
   ]
  },
  {
   "cell_type": "markdown",
   "id": "46718c4b",
   "metadata": {},
   "source": [
    "# 크로마 db 처음 생성시에만 실행"
   ]
  },
  {
   "cell_type": "code",
   "execution_count": null,
   "id": "be376d89",
   "metadata": {},
   "outputs": [],
   "source": [
    "from langchain_chroma import Chroma\n",
    "# 크로마 db 처음 생성\n",
    "vector_store = Chroma.from_documents(\n",
    "    documents=document_list,\n",
    "    embedding=embedding,\n",
    "    collection_name='chroma-tax',\n",
    "    persist_directory='./chroma-tax'\n",
    ")"
   ]
  },
  {
   "cell_type": "markdown",
   "id": "c0e3c181",
   "metadata": {},
   "source": [
    "# 데이터 로딩"
   ]
  },
  {
   "cell_type": "code",
   "execution_count": 10,
   "id": "61b2c8b0",
   "metadata": {},
   "outputs": [],
   "source": [
    "vector_store = Chroma(\n",
    "    collection_name='chroma-tax',\n",
    "    embedding_function=embedding,\n",
    "    persist_directory='./chroma-tax'\n",
    ")"
   ]
  },
  {
   "cell_type": "markdown",
   "id": "6007332b",
   "metadata": {},
   "source": [
    "# 리트리버 검색기 선언"
   ]
  },
  {
   "cell_type": "code",
   "execution_count": 11,
   "id": "cdec5195",
   "metadata": {},
   "outputs": [],
   "source": [
    "retriever = vector_store.as_retriever(search_kwargs={'k':3})"
   ]
  },
  {
   "cell_type": "markdown",
   "id": "b7ca55b7",
   "metadata": {},
   "source": [
    "# 포멧 선언"
   ]
  },
  {
   "cell_type": "code",
   "execution_count": 12,
   "id": "eeb4e55f",
   "metadata": {},
   "outputs": [],
   "source": [
    "def format_docs(docs):\n",
    "    return \"\\n\\n\".join(doc.page_content for doc in docs)"
   ]
  },
  {
   "cell_type": "markdown",
   "id": "db4aa99f",
   "metadata": {},
   "source": [
    "# 에이전트 state 선언"
   ]
  },
  {
   "cell_type": "code",
   "execution_count": 13,
   "id": "4f20fd4e",
   "metadata": {},
   "outputs": [],
   "source": [
    "from typing_extensions import List, TypedDict\n",
    "from langchain_core.documents import Document\n",
    "from langgraph.graph import StateGraph\n",
    "\n",
    "class AgentState(TypedDict):\n",
    "    query: str                      # 유저 입력 쿼리문\n",
    "    context: List[Document]         # 검색기로 검색된 Document 객체\n",
    "    answer: str                     # 최종 답변\n",
    "    grade: float                    # 리트리버 답변 품질\n",
    "    retry_count: int                # 재 답변 횟수 max=4"
   ]
  },
  {
   "cell_type": "markdown",
   "id": "90e3ba11",
   "metadata": {},
   "source": [
    "# llm 모델선언"
   ]
  },
  {
   "cell_type": "code",
   "execution_count": 14,
   "id": "02928b57",
   "metadata": {},
   "outputs": [],
   "source": [
    "from langchain_core.prompts import ChatPromptTemplate\n",
    "from langchain_core.output_parsers import StrOutputParser\n",
    "from langchain_openai import ChatOpenAI\n",
    "from langchain_core.runnables import RunnablePassthrough\n",
    "\n",
    "llm = ChatOpenAI(model=\"gpt-4o-mini\")"
   ]
  },
  {
   "cell_type": "markdown",
   "id": "7f57e3ed",
   "metadata": {},
   "source": [
    "# 유저 쿼리에 따른 리트리버 검색"
   ]
  },
  {
   "cell_type": "code",
   "execution_count": 15,
   "id": "3a80c762",
   "metadata": {},
   "outputs": [],
   "source": [
    "from typing import List\n",
    "\n",
    "def retrieve(state: AgentState) -> AgentState:\n",
    "    query = state[\"query\"]\n",
    "    docs = retriever.invoke(query)\n",
    "    # **state로 기존 state값을 보존 한 뒤 context만 뒤집어 씀.\n",
    "    return {**state, \"context\": docs}       "
   ]
  },
  {
   "cell_type": "code",
   "execution_count": 16,
   "id": "9b746026",
   "metadata": {},
   "outputs": [],
   "source": [
    "def generate(state: AgentState) -> AgentState:\n",
    "    response_template = \"\"\"\n",
    "    사용자 입력: {query}\n",
    "    관련 답변: {context}\n",
    "    \n",
    "    위 정보를 바탕으로 사용자가 원하는 세법 관련 답변을 생성하세요.\n",
    "    검색 결과의 정보를 활용하여 유용한 정보를 제공하세요.\n",
    "    \n",
    "    답변:\n",
    "    \"\"\"\n",
    "    response_prompt = ChatPromptTemplate.from_template(response_template)\n",
    "    response_chain = response_prompt | llm | StrOutputParser()\n",
    "    \n",
    "    answer = response_chain.invoke({\"query\":state['query'],\n",
    "                                    \"context\":state['context']})\n",
    "    print(f\"\"\"\n",
    "질문에 대한 답변: {answer}\n",
    "    \"\"\")\n",
    "    return {\"answer\":answer}"
   ]
  },
  {
   "cell_type": "code",
   "execution_count": 17,
   "id": "45165f62",
   "metadata": {},
   "outputs": [],
   "source": [
    "def rewrite(state: AgentState) -> AgentState:\n",
    "    response_template = \"\"\"\n",
    "    당신은 질의 재작성 도우미입니다.\n",
    "    아래 사용자의 질문을 RAG 검색이 잘 되는 형태로 구체화/정규화하세요.\n",
    "    - 핵심 키워드 보강\n",
    "    - 불필요한 일반어 제거\n",
    "    - 동의어 중 도메인 표준어 사용\n",
    "    - 가능한 경우 연도/조항/용어를 명시\n",
    "    \n",
    "    원 질문: {query}\n",
    "\n",
    "    \"\"\"\n",
    "    prompt = ChatPromptTemplate.from_template(response_template)\n",
    "    chain = prompt | llm | StrOutputParser()\n",
    "    query = chain.invoke({\"query\": state[\"query\"]})\n",
    "    \n",
    "    return {\"query\":query}\n",
    "    "
   ]
  },
  {
   "cell_type": "markdown",
   "id": "58cb5912",
   "metadata": {},
   "source": [
    "# 답변 품질 평가"
   ]
  },
  {
   "cell_type": "code",
   "execution_count": 18,
   "id": "5b0d550f",
   "metadata": {},
   "outputs": [],
   "source": [
    "from pydantic import BaseModel, Field\n",
    "\n",
    "class GradeResponse(BaseModel):\n",
    "    \"A score for answers\"\n",
    "    score: float = Field(..., ge=0, le=1, description=\"A score from 0 to 1, where 1 is perfect\")\n",
    "    explanation: str = Field(..., description=\"An explanation for the given score\")\n",
    "    \n",
    "def grade_answer(state:AgentState):\n",
    "    query = state['query']\n",
    "    answer= state['answer']\n",
    "    context = format_docs(state['context'])\n",
    "    \n",
    "    grading_system = \"\"\"You are an expert grader. \n",
    "    Grade the following answer based on its relevance and accuracy to the question, considering the given context. \n",
    "    Provide a score from 0 to 1, where 1 is perfect, along with an explanation.\"\"\"\n",
    "\n",
    "    grading_prompt = ChatPromptTemplate.from_messages([\n",
    "        (\"system\", grading_system),\n",
    "        (\"human\", \"[Question]\\n{question}\\n\\n[Context]\\n{context}\\n\\n[Answer]\\n{answer}\\n\\n[Grade]\\n\")\n",
    "    ])\n",
    "    \n",
    "    grading_chain = grading_prompt | llm.with_structured_output(schema=GradeResponse)\n",
    "    grade_response = grading_chain.invoke({\n",
    "        \"question\": query,\n",
    "        \"context\": context,\n",
    "        \"answer\": answer\n",
    "    })\n",
    "    \n",
    "    return {\"grade\": grade_response.score}\n",
    "    "
   ]
  },
  {
   "cell_type": "markdown",
   "id": "67b1a073",
   "metadata": {},
   "source": [
    "# General 답변 품질 평가"
   ]
  },
  {
   "cell_type": "code",
   "execution_count": 19,
   "id": "5ec10d5f",
   "metadata": {},
   "outputs": [],
   "source": [
    "from typing import Literal\n",
    "\n",
    "def should_retry(state: AgentState) -> Literal[\"generate\", \"rewrite\"]:\n",
    "    print(\"--- 점수측정중 ---\")\n",
    "    print(f\"Grade Score\", state[\"grade\"])\n",
    "    \n",
    "    if state.get('grade', 0.0) > 0.6 : return \"generate\"\n",
    "    \n",
    "    retry_count = state.get(\"retry_count\", 0)\n",
    "    if retry_count > 4: return \"generate\"\n",
    "    return \"rewrite\"\n",
    "    "
   ]
  },
  {
   "cell_type": "code",
   "execution_count": 20,
   "id": "224c9e5c",
   "metadata": {},
   "outputs": [
    {
     "data": {
      "image/png": "[encoded data removed]",
      "text/plain": [
       "<IPython.core.display.Image object>"
      ]
     },
     "metadata": {},
     "output_type": "display_data"
    }
   ],
   "source": [
    "build = StateGraph(AgentState)\n",
    "\n",
    "build.add_node(\"retrieve\", retrieve)      # context 채우기\n",
    "build.add_node(\"generate\", generate)      # 답변 생성\n",
    "build.add_node(\"grade_answer\", grade_answer)  # 0~1\n",
    "build.add_node(\"rewrite\", rewrite)        # 질의 재작성(+retry_count 증가)\n",
    "\n",
    "build.add_edge(START, \"retrieve\")\n",
    "build.add_edge(\"retrieve\", \"generate\")\n",
    "build.add_edge(\"generate\", \"grade_answer\")\n",
    "\n",
    "build.add_conditional_edges(\"grade_answer\", should_retry, {\n",
    "    \"done\": END,\n",
    "    \"rewrite\": \"rewrite\",\n",
    "    \"generate\": \"generate\"  # 원한다면 '점수 충분'을 generate 재생성으로도 연결 가능\n",
    "})\n",
    "\n",
    "build.add_edge(\"rewrite\", \"retrieve\")\n",
    "\n",
    "graph = build.compile()\n",
    "\n",
    "display(Image(graph.get_graph().draw_mermaid_png()))\n"
   ]
  },
  {
   "cell_type": "code",
   "execution_count": null,
   "id": "ab955b91",
   "metadata": {},
   "outputs": [],
   "source": []
  }
 ],
 "metadata": {
  "kernelspec": {
   "display_name": "uv-work",
   "language": "python",
   "name": "python3"
  },
  "language_info": {
   "codemirror_mode": {
    "name": "ipython",
    "version": 3
   },
   "file_extension": ".py",
   "mimetype": "text/x-python",
   "name": "python",
   "nbconvert_exporter": "python",
   "pygments_lexer": "ipython3",
   "version": "3.11.9"
  }
 },
 "nbformat": 4,
 "nbformat_minor": 5
}
