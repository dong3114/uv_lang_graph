{
 "cells": [
  {
   "cell_type": "markdown",
   "id": "afbc38b7",
   "metadata": {},
   "source": [
    "# 종합 세금 전문 Agent"
   ]
  },
  {
   "cell_type": "code",
   "execution_count": 1,
   "id": "8fd9f95e",
   "metadata": {},
   "outputs": [
    {
     "data": {
      "text/plain": [
       "True"
      ]
     },
     "execution_count": 1,
     "metadata": {},
     "output_type": "execute_result"
    }
   ],
   "source": [
    "from textwrap import dedent     # tap(들여쓰기)에 상관없이 쓸 수 있게.\n",
    "from pprint import pprint\n",
    "from langgraph.graph import StateGraph, START, END\n",
    "from IPython.display import Image, display\n",
    "from typing import TypedDict\n",
    "from typing import Literal\n",
    "import os\n",
    "from dotenv import load_dotenv\n",
    "\n",
    "load_dotenv()"
   ]
  },
  {
   "cell_type": "code",
   "execution_count": 2,
   "id": "c19b92c3",
   "metadata": {},
   "outputs": [],
   "source": [
    "from typing_extensions import List, TypedDict\n",
    "from langchain_core.documents import Document\n",
    "from langgraph.graph import StateGraph\n",
    "\n",
    "class AgentState(TypedDict):\n",
    "    query: str\n",
    "    context: list\n",
    "    answer: str"
   ]
  },
  {
   "cell_type": "code",
   "execution_count": 3,
   "id": "43e5a1ec",
   "metadata": {},
   "outputs": [],
   "source": [
    "from langchain_community.tools import TavilySearchResults\n",
    "\n",
    "tavily_search_tool = TavilySearchResults(\n",
    "    max_results=3,\n",
    "    search_engine=\"advanced\",\n",
    "    include_answers=True,\n",
    "    include_raw_content=True,\n",
    "    include_images=True,\n",
    ")"
   ]
  },
  {
   "cell_type": "markdown",
   "id": "79ee6e0f",
   "metadata": {},
   "source": [
    "### web 검색 전문"
   ]
  },
  {
   "cell_type": "code",
   "execution_count": 4,
   "id": "245c521c",
   "metadata": {},
   "outputs": [],
   "source": [
    "def web_search(state: AgentState) -> AgentState:\n",
    "    \"\"\" \n",
    "    주어진 state를 기반으로 웹 검색을 수행합니다.\n",
    "    \n",
    "    Args:\n",
    "        state (AgentState): 사용자의 질문을 포함한 에이전트의 현재 state.\n",
    "        \n",
    "    Returns:\n",
    "        AgentState: 웹 검색 결과가 추가된 state를 반환합니다.    \n",
    "    \"\"\"\n",
    "    query = state[\"query\"]\n",
    "    results = tavily_search_tool.invoke(query)\n",
    "    \n",
    "    return {'context': results}"
   ]
  },
  {
   "cell_type": "code",
   "execution_count": 5,
   "id": "5ae5e9db",
   "metadata": {},
   "outputs": [
    {
     "name": "stderr",
     "output_type": "stream",
     "text": [
      "c:\\Users\\scv31\\Desktop\\donghwan\\workspace\\aipython\\uv_work\\.venv\\Lib\\site-packages\\langsmith\\client.py:256: LangSmithMissingAPIKeyWarning: API key must be provided when using hosted LangSmith API\n",
      "  warnings.warn(\n"
     ]
    }
   ],
   "source": [
    "from langchain import hub\n",
    "from langchain_openai import ChatOpenAI\n",
    "from langchain_core.output_parsers import StrOutputParser\n",
    "\n",
    "generate_prompt = hub.pull('rlm/rag-prompt')\n",
    "generate_llm = ChatOpenAI(model='gpt-4o')\n",
    "\n",
    "def web_generate(state: AgentState) -> AgentState:\n",
    "    \"\"\"\n",
    "    주어진 문맥과 질문을 기반으로 답변을 생성합니다.\n",
    "    Args:\n",
    "        state (AgentState): 문맥과 질문을 포함한 에이전트의 현재 state.\n",
    "        \n",
    "    Returns:\n",
    "        AgentState: 생성된 답변을 포함한 state를 반환합니다.      \n",
    "    \"\"\"\n",
    "    context = state['context']\n",
    "    query = state['query']\n",
    "    \n",
    "    rag_chain = generate_prompt | generate_llm | StrOutputParser()\n",
    "    response = rag_chain.invoke({\"context\": context, \"question\": query})\n",
    "    \n",
    "    return {'answer': response}"
   ]
  },
  {
   "cell_type": "code",
   "execution_count": 6,
   "id": "3a3542b0",
   "metadata": {},
   "outputs": [],
   "source": [
    "from langchain_openai import ChatOpenAI\n",
    "from langchain_core.output_parsers import StrOutputParser\n",
    "\n",
    "basic_llm = ChatOpenAI(model='gpt-4o-mini')\n",
    "\n",
    "def basic_generate(state: AgentState) -> AgentState:\n",
    "    \"\"\"\n",
    "    사용자의 질문에 기반하여 기본 답변을 생성합니다.\n",
    "    \n",
    "    Args:\n",
    "        state (AgentState): 사용자의 질문을 포함한 에이전트의 현재 state.\n",
    "        \n",
    "    Returns:\n",
    "        AgentState: 생성된 답변을 포함한 state를 반환합니다.      \n",
    "    \"\"\"\n",
    "    query = state['query']\n",
    "    \n",
    "    llm_response = basic_llm.invoke(query)\n",
    "    \n",
    "    return {'answer': llm_response}"
   ]
  },
  {
   "cell_type": "markdown",
   "id": "00cb9e3b",
   "metadata": {},
   "source": [
    "### Route 분기 전문 llm 추가"
   ]
  },
  {
   "cell_type": "code",
   "execution_count": 7,
   "id": "9c598487",
   "metadata": {},
   "outputs": [],
   "source": [
    "from langchain_core.prompts import ChatPromptTemplate\n",
    "from pydantic import BaseModel, Field\n",
    "\n",
    "class Route(BaseModel):\n",
    "    # llm이 타겟중에서 호출 할 수 있도록 선언\n",
    "    target: Literal['vector_store', 'llm', 'web_search', 'estate_collection'] = Field(\n",
    "        description=\"The target for the query to answer\"\n",
    "    )  \n",
    "    "
   ]
  },
  {
   "cell_type": "code",
   "execution_count": 8,
   "id": "8d08fdef",
   "metadata": {},
   "outputs": [],
   "source": [
    "router_system_prompt = \"\"\"\n",
    "You are an expert at routing a user's question to 'vector_store', 'llm', 'web_search', or 'estate_collection'.\n",
    "'vector_store' contains information about income tax up to December 2024.\n",
    "if you think the question is simple enough use 'llm'\n",
    "if you think you need to search the web to answer the question use 'web_search'\n",
    "if the question is related to real estate tax law, use 'estate_collection'\n",
    "\"\"\""
   ]
  },
  {
   "cell_type": "code",
   "execution_count": 9,
   "id": "1cc1543c",
   "metadata": {},
   "outputs": [],
   "source": [
    "router_prompt = ChatPromptTemplate.from_messages(\n",
    "    [\n",
    "        ('system', router_system_prompt),\n",
    "        ('human', \"{query}\")\n",
    "    ]\n",
    ")\n",
    "\n",
    "# router 에게 llm 전달 [좋은 모델 x]\n",
    "router_llm = ChatOpenAI(model='gpt-4o-mini')                    # 위에 선언된 3가지의 방법중 어떤걸 호출할지 판단하는 llm\n",
    "structed_router_llm = router_llm.with_structured_output(Route)  # Route 객체와 맵핑된 객체 <현재 코드에선 선언된 Route.target 내부를 호출해야함.>"
   ]
  },
  {
   "cell_type": "code",
   "execution_count": 10,
   "id": "33fc6b1c",
   "metadata": {},
   "outputs": [],
   "source": [
    "def router(state: AgentState) -> Literal['vector_store', 'llm', 'web_search', 'estate_collection']:\n",
    "    \"\"\"\n",
    "    사용자의 질문을 기반으로 적절한 경로를 결정합니다.\n",
    "    \n",
    "    Args:\n",
    "        state (AgentState): 사용자의 질문을 포함한 에이전트의 현재 state.\n",
    "        \n",
    "    Returns:\n",
    "        Literal['vector_store', 'llm', 'web_search', 'estate_collection']: \n",
    "        질문을 처리하기 위한 적절한 경로를 나타내는 문자열을 반환한다.      \n",
    "    \"\"\"\n",
    "    query = state['query']\n",
    "    \n",
    "    router_chain = router_prompt | structed_router_llm\n",
    "    \n",
    "    route = router_chain.invoke({\"query\": query})\n",
    "    print(f\"route: {route.target}\")\n",
    "    return route.target"
   ]
  },
  {
   "cell_type": "markdown",
   "id": "1f0f6a19",
   "metadata": {},
   "source": [
    "### 외부 세금 전문 Agent"
   ]
  },
  {
   "cell_type": "code",
   "execution_count": 11,
   "id": "b223bf6c",
   "metadata": {},
   "outputs": [
    {
     "name": "stderr",
     "output_type": "stream",
     "text": [
      "c:\\Users\\scv31\\Desktop\\donghwan\\workspace\\aipython\\uv_work\\.venv\\Lib\\site-packages\\langsmith\\client.py:256: LangSmithMissingAPIKeyWarning: API key must be provided when using hosted LangSmith API\n",
      "  warnings.warn(\n",
      "c:\\Users\\scv31\\Desktop\\donghwan\\workspace\\aipython\\uv_work\\.venv\\Lib\\site-packages\\langsmith\\client.py:256: LangSmithMissingAPIKeyWarning: API key must be provided when using hosted LangSmith API\n",
      "  warnings.warn(\n",
      "c:\\Users\\scv31\\Desktop\\donghwan\\workspace\\aipython\\uv_work\\.venv\\Lib\\site-packages\\langsmith\\client.py:256: LangSmithMissingAPIKeyWarning: API key must be provided when using hosted LangSmith API\n",
      "  warnings.warn(\n"
     ]
    },
    {
     "name": "stdout",
     "output_type": "stream",
     "text": [
      "생성된 텍스트 청크 수: 17\n",
      "각 청크의 길이: [1469, 1345, 295, 932, 1213, 1298, 1333, 1109, 1446, 1497, 1168, 1408, 1167, 1080, 1390, 1451, 1331]\n"
     ]
    },
    {
     "name": "stderr",
     "output_type": "stream",
     "text": [
      "c:\\Users\\scv31\\Desktop\\donghwan\\workspace\\aipython\\uv_work\\.venv\\Lib\\site-packages\\langsmith\\client.py:256: LangSmithMissingAPIKeyWarning: API key must be provided when using hosted LangSmith API\n",
      "  warnings.warn(\n"
     ]
    }
   ],
   "source": [
    "from income_tax_agent import graph as income_tax_subgraph\n",
    "from income_estate_tax import graph as income_estate_tax_subgraph"
   ]
  },
  {
   "cell_type": "markdown",
   "id": "15462d43",
   "metadata": {},
   "source": [
    "### 노드 추가"
   ]
  },
  {
   "cell_type": "code",
   "execution_count": 12,
   "id": "b2c6eea5",
   "metadata": {},
   "outputs": [
    {
     "data": {
      "text/plain": [
       "<langgraph.graph.state.StateGraph at 0x1da8d0bf890>"
      ]
     },
     "execution_count": 12,
     "metadata": {},
     "output_type": "execute_result"
    }
   ],
   "source": [
    "graph_builder = StateGraph(AgentState)\n",
    "# 테스트용 노드 추가\n",
    "graph_builder.add_node(\"income_tax_agent\", income_tax_subgraph)\n",
    "graph_builder.add_node(\"income_estate_tax\", income_estate_tax_subgraph)\n",
    "graph_builder.add_node(\"web_search\", web_search)\n",
    "graph_builder.add_node(\"web_generate\", web_generate)\n",
    "graph_builder.add_node(\"basic_generate\", basic_generate)"
   ]
  },
  {
   "cell_type": "markdown",
   "id": "e3dde87d",
   "metadata": {},
   "source": [
    "### 엣지 추가 및 분기"
   ]
  },
  {
   "cell_type": "code",
   "execution_count": 13,
   "id": "e9f97b3f",
   "metadata": {},
   "outputs": [
    {
     "data": {
      "text/plain": [
       "<langgraph.graph.state.StateGraph at 0x1da8d0bf890>"
      ]
     },
     "execution_count": 13,
     "metadata": {},
     "output_type": "execute_result"
    }
   ],
   "source": [
    "graph_builder.add_conditional_edges(\n",
    "    START,\n",
    "    router,\n",
    "    {\n",
    "        \"vector_store\":\"income_tax_agent\",\n",
    "        \"estate_collection\":\"income_estate_tax\",\n",
    "        \"llm\": \"basic_generate\",\n",
    "        \"web_search\":\"web_search\"\n",
    "    }\n",
    ")\n",
    "graph_builder.add_edge(\"web_search\", \"web_generate\")\n",
    "graph_builder.add_edge(\"basic_generate\",END)\n",
    "graph_builder.add_edge(\"web_generate\", END)\n",
    "graph_builder.add_edge(\"income_tax_agent\", END)\n",
    "graph_builder.add_edge(\"income_estate_tax\", END)"
   ]
  },
  {
   "cell_type": "markdown",
   "id": "b2833fbf",
   "metadata": {},
   "source": [
    "### 그래프 시각화\n",
    "그래프 작성 요청이 많으면 오류 발생 따라서, max_retries로 횟수 제한 하여 요청하도록 변경"
   ]
  },
  {
   "cell_type": "code",
   "execution_count": 15,
   "id": "722850d5",
   "metadata": {},
   "outputs": [
    {
     "data": {
      "image/png": "[encoded data removed]",
      "text/plain": [
       "<IPython.core.display.Image object>"
      ]
     },
     "metadata": {},
     "output_type": "display_data"
    }
   ],
   "source": [
    "graph = graph_builder.compile()\n",
    "# display(Image(graph.get_graph().draw_mermaid_png()))\n",
    "\n",
    "png = graph.get_graph().draw_mermaid_png(\n",
    "    max_retries=5,        # default ~3\n",
    "    retry_delay=2.0       # seconds between tries\n",
    ")\n",
    "display(Image(png))"
   ]
  },
  {
   "cell_type": "markdown",
   "id": "21f44f0a",
   "metadata": {},
   "source": [
    "### Nomal 답변"
   ]
  },
  {
   "cell_type": "code",
   "execution_count": 16,
   "id": "d30a3443",
   "metadata": {},
   "outputs": [
    {
     "name": "stdout",
     "output_type": "stream",
     "text": [
      "route: llm\n"
     ]
    },
    {
     "data": {
      "text/plain": [
       "{'query': '대한민국 수도는 어디인가요?',\n",
       " 'answer': AIMessage(content='대한민국의 수도는 서울입니다.', additional_kwargs={'refusal': None}, response_metadata={'token_usage': {'completion_tokens': 8, 'prompt_tokens': 15, 'total_tokens': 23, 'completion_tokens_details': {'accepted_prediction_tokens': 0, 'audio_tokens': 0, 'reasoning_tokens': 0, 'rejected_prediction_tokens': 0}, 'prompt_tokens_details': {'audio_tokens': 0, 'cached_tokens': 0}}, 'model_name': 'gpt-4o-mini-2024-07-18', 'system_fingerprint': 'fp_8bda4d3a2c', 'finish_reason': 'stop', 'logprobs': None}, id='run--c959017d-05db-459a-b0b6-7433ecbda43c-0', usage_metadata={'input_tokens': 15, 'output_tokens': 8, 'total_tokens': 23, 'input_token_details': {'audio': 0, 'cache_read': 0}, 'output_token_details': {'audio': 0, 'reasoning': 0}})}"
      ]
     },
     "execution_count": 16,
     "metadata": {},
     "output_type": "execute_result"
    }
   ],
   "source": [
    "inital_state = {'query': \"대한민국 수도는 어디인가요?\"}\n",
    "graph.invoke(inital_state)"
   ]
  },
  {
   "cell_type": "markdown",
   "id": "21ef9851",
   "metadata": {},
   "source": [
    "### Web 검색 답변"
   ]
  },
  {
   "cell_type": "code",
   "execution_count": 17,
   "id": "97b25500",
   "metadata": {},
   "outputs": [
    {
     "name": "stdout",
     "output_type": "stream",
     "text": [
      "route: web_search\n"
     ]
    },
    {
     "data": {
      "text/plain": [
       "{'query': '광주 문화전당역 맛집을 추천해주세요?',\n",
       " 'context': \"HTTPError('401 Client Error: Unauthorized for url: https://api.tavily.com/search')\",\n",
       " 'answer': '죄송합니다, 현재 광주 문화전당역 주변 맛집 정보를 제공할 수 없습니다.'}"
      ]
     },
     "execution_count": 17,
     "metadata": {},
     "output_type": "execute_result"
    }
   ],
   "source": [
    "inital_state = {'query': \"광주 문화전당역 맛집을 추천해주세요?\"}\n",
    "graph.invoke(inital_state)"
   ]
  },
  {
   "cell_type": "markdown",
   "id": "c61041cf",
   "metadata": {},
   "source": [
    "### 소득세법 Agent"
   ]
  },
  {
   "cell_type": "code",
   "execution_count": 20,
   "id": "ccd1fe6c",
   "metadata": {},
   "outputs": [
    {
     "name": "stdout",
     "output_type": "stream",
     "text": [
      "route: vector_store\n",
      "응답: not hallucinated\n",
      "유용성: helpful\n"
     ]
    },
    {
     "data": {
      "text/plain": [
       "{'query': '거주자의 연봉 5천만원에 대한 소득세는 얼마인가요?',\n",
       " 'context': [Document(metadata={'source': './tax.docx'}, page_content='③ 제1항 및 제2항에 따른 이자등 상당액의 계산방법과 그 밖에 필요한 사항은 대통령령으로 정한다.\\n\\n[전문개정 2009. 12. 31.]\\n\\n\\n\\n제46조(채권 등에 대한 소득금액의 계산 특례) ① 거주자가 제16조제1항제1호ㆍ제2호ㆍ제2호의2ㆍ제5호 및 제6호에 해당하는 채권 또는 증권과 타인에게 양도가 가능한 증권으로서 대통령령으로 정하는 것(이하 이 조, 제133조의2 및 제156조의3에서 “채권등”이라 한다)의 발행법인으로부터 해당 채권등에서 발생하는 이자 또는 할인액(이하 이 조, 제133조의2 및 제156조의3에서 “이자등”이라 한다)을 지급[전환사채의 주식전환, 교환사채의 주식교환 및 신주인수권부사채의 신주인수권행사(신주 발행대금을 해당 신주인수권부사채로 납입하는 경우만 해당한다) 및 「자본시장과 금융투자업에 관한 법률」 제4조제7항제3호ㆍ제3호의2 및 제3호의3에 해당하는 채권등이 주식으로 전환ㆍ상환되는 경우를 포함한다. 이하 같다]받거나 해당 채권등을 매도(증여ㆍ변제 및 출자 등으로 채권등의 소유권 또는 이자소득의 수급권의 변동이 있는 경우와 매도를 위탁하거나 중개 또는 알선시키는 경우를 포함하되, 환매조건부채권매매거래 등 대통령령으로 정하는 경우는 제외한다. 이하 제133조의2에서 같다)하는 경우에는 거주자에게 그 보유기간별로 귀속되는 이자등 상당액을 해당 거주자의 제16조에 따른 이자소득으로 보아 소득금액을 계산한다. <개정 2010. 12. 27., 2012. 1. 1., 2020. 12. 29.>\\n\\n② 제1항을 적용할 때 해당 거주자가 해당 채권등을 보유한 기간을 대통령령으로 정하는 바에 따라 입증하지 못하는 경우에는 제133조의2제1항에 따른 원천징수기간의 이자등 상당액이 해당 거주자에게 귀속되는 것으로 보아 소득금액을 계산한다.<개정 2010. 12. 27.>\\n\\n③ 제1항 및 제2항에 따른 이자등 상당액의 계산방법과 그 밖에 필요한 사항은 대통령령으로 정한다.\\n\\n[전문개정 2009. 12. 31.]\\n\\n[시행일: 2025. 1. 1.]  제46조제1항\\n\\n\\n\\n제46조의2(중도 해지로 인한 이자소득금액 계산의 특례) 종합소득과세표준 확정신고 후 예금 또는 신탁계약의 중도 해지로 이미 지난 과세기간에 속하는 이자소득금액이 감액된 경우 그 중도 해지일이 속하는 과세기간의 종합소득금액에 포함된 이자소득금액에서 그 감액된 이자소득금액을 뺄 수 있다. 다만, 「국세기본법」 제45조의2에 따라 과세표준 및 세액의 경정(更正)을 청구한 경우에는 그러하지 아니하다.\\n\\n[전문개정 2009. 12. 31.]\\n\\n\\n\\n제5관 근로소득공제ㆍ연금소득공제 및 퇴직소득공제 <개정 2009. 12. 31.>\\n\\n\\n\\n제47조(근로소득공제) ①근로소득이 있는 거주자에 대해서는 해당 과세기간에 받는 총급여액에서 다음의 금액을 공제한다. 다만, 공제액이 2천만원을 초과하는 경우에는 2천만원을 공제한다. <개정 2012. 1. 1., 2014. 1. 1., 2019. 12. 31.>'),\n",
       "  Document(metadata={'source': './tax.docx'}, page_content='제55조(세율) ①거주자의 종합소득에 대한 소득세는 해당 연도의 종합소득과세표준에 다음의 세율을 적용하여 계산한 금액(이하 “종합소득산출세액”이라 한다)을 그 세액으로 한다. <개정 2014. 1. 1., 2016. 12. 20., 2017. 12. 19., 2020. 12. 29., 2022. 12. 31.>\\n\\n| 종합소득 과세표준          | 세율                                         |\\n\\n|-------------------|--------------------------------------------|\\n\\n| 1,400만원 이하     | 과세표준의 6퍼센트                             |\\n\\n| 1,400만원 초과     5,000만원 이하     | 84만원 + (1,400만원을 초과하는 금액의 15퍼센트)  |\\n\\n| 5,000만원 초과   8,800만원 이하     | 624만원 + (5,000만원을 초과하는 금액의 24퍼센트) |\\n\\n| 8,800만원 초과 1억5천만원 이하    | 3,706만원 + (8,800만원을 초과하는 금액의 35퍼센트)|\\n\\n| 1억5천만원 초과 3억원 이하         | 3,706만원 + (1억5천만원을 초과하는 금액의 38퍼센트)|\\n\\n| 3억원 초과    5억원 이하         | 9,406만원 + (3억원을 초과하는 금액의 38퍼센트)   |\\n\\n| 5억원 초과      10억원 이하        | 1억 7,406만원 + (5억원을 초과하는 금액의 42퍼센트)|\\n\\n| 10억원 초과        | 3억 8,406만원 + (10억원을 초과하는 금액의 45퍼센트)|\\n\\n\\n\\n\\n\\n② 거주자의 퇴직소득에 대한 소득세는 다음 각 호의 순서에 따라 계산한 금액(이하 “퇴직소득 산출세액”이라 한다)으로 한다.<개정 2013. 1. 1., 2014. 12. 23.>\\n\\n1. 해당 과세기간의 퇴직소득과세표준에 제1항의 세율을 적용하여 계산한 금액\\n\\n2. 제1호의 금액을 12로 나눈 금액에 근속연수를 곱한 금액\\n\\n3. 삭제<2014. 12. 23.>\\n\\n[전문개정 2009. 12. 31.]\\n\\n\\n\\n제2관 세액공제 <개정 2009. 12. 31.>\\n\\n\\n\\n제56조(배당세액공제) ① 거주자의 종합소득금액에 제17조제3항 각 호 외의 부분 단서가 적용되는 배당소득금액이 합산되어 있는 경우에는 같은 항 각 호 외의 부분 단서에 따라 해당 과세기간의 총수입금액에 더한 금액에 해당하는 금액을 종합소득 산출세액에서 공제한다. <개정 2009. 12. 31.>\\n\\n② 제1항에 따른 공제를 “배당세액공제”라 한다.<개정 2009. 12. 31.>\\n\\n③ 삭제<2003. 12. 30.>\\n\\n④ 제1항을 적용할 때 배당세액공제의 대상이 되는 배당소득금액은 제14조제2항의 종합소득과세표준에 포함된 배당소득금액으로서 이자소득등의 종합과세기준금액을 초과하는 것으로 한다.<개정 2009. 12. 31.>\\n\\n⑤ 삭제<2006. 12. 30.>'),\n",
       "  Document(metadata={'source': './tax.docx'}, page_content='3. 「자본시장과 금융투자업에 관한 법률」 제251조제1항에 따른 집합투자업겸영보험회사의 특별계정\\n\\n③ 비거주자의 소득은 제119조에 따라 구분한다.\\n\\n[전문개정 2009. 12. 31.]\\n\\n\\n\\n제4조(소득의 구분) ① 거주자의 소득은 다음 각 호와 같이 구분한다. <개정 2013. 1. 1., 2020. 12. 29.>\\n\\n1. 종합소득\\n\\n\\u3000이 법에 따라 과세되는 모든 소득에서 제2호, 제2호의2 및 제3호에 따른 소득을 제외한 소득으로서 다음 각 목의 소득을 합산한 것\\n\\n가. 이자소득\\n\\n나. 배당소득\\n\\n다. 사업소득\\n\\n라. 근로소득\\n\\n마. 연금소득\\n\\n바. 기타소득\\n\\n2. 퇴직소득\\n\\n2의2. 금융투자소득\\n\\n3. 양도소득\\n\\n② 제1항에 따른 소득을 구분할 때 다음 각 호의 신탁을 제외한 신탁의 이익은 「신탁법」 제2조에 따라 수탁자에게 이전되거나 그 밖에 처분된 재산권에서 발생하는 소득의 내용별로 구분한다.<개정 2011. 7. 25., 2020. 12. 29., 2022. 12. 31.>\\n\\n1. 「법인세법」 제5조제2항에 따라 신탁재산에 귀속되는 소득에 대하여 그 신탁의 수탁자가 법인세를 납부하는 신탁\\n\\n2. 「자본시장과 금융투자업에 관한 법률」 제9조제18항제1호에 따른 투자신탁. 다만, 2024년 12월 31일까지는 이 법 제17조제1항제5호에 따른 집합투자기구로 한정한다.\\n\\n3. 「자본시장과 금융투자업에 관한 법률」 제251조제1항에 따른 집합투자업겸영보험회사의 특별계정\\n\\n③ 비거주자의 소득은 제119조에 따라 구분한다.\\n\\n[전문개정 2009. 12. 31.]\\n\\n[시행일: 2025. 1. 1.] 제4조제1항제1호, 제4조제1항제2호의2\\n\\n\\n\\n제5조(과세기간) ① 소득세의 과세기간은 1월 1일부터 12월 31일까지 1년으로 한다.\\n\\n② 거주자가 사망한 경우의 과세기간은 1월 1일부터 사망한 날까지로 한다.\\n\\n③ 거주자가 주소 또는 거소를 국외로 이전(이하 “출국”이라 한다)하여 비거주자가 되는 경우의 과세기간은 1월 1일부터 출국한 날까지로 한다.\\n\\n[전문개정 2009. 12. 31.]\\n\\n\\n\\n제6조(납세지) ① 거주자의 소득세 납세지는 그 주소지로 한다. 다만, 주소지가 없는 경우에는 그 거소지로 한다.\\n\\n② 비거주자의 소득세 납세지는 제120조에 따른 국내사업장(이하 “국내사업장”이라 한다)의 소재지로 한다. 다만, 국내사업장이 둘 이상 있는 경우에는 주된 국내사업장의 소재지로 하고, 국내사업장이 없는 경우에는 국내원천소득이 발생하는 장소로 한다.<개정 2013. 1. 1.>\\n\\n③ 납세지가 불분명한 경우에는 대통령령으로 정하는 바에 따라 납세지를 결정한다.\\n\\n[전문개정 2009. 12. 31.]\\n\\n\\n\\n제7조(원천징수 등의 경우의 납세지) ① 원천징수하는 소득세의 납세지는 다음 각 호에 따른다. <개정 2012. 1. 1., 2023. 12. 31.>')],\n",
       " 'answer': AIMessage(content='거주자의 연봉 5천만원에 대한 소득세는 624만원입니다. 이는 연봉 5천만원이 과세표준 5천만원 이하 구간에 속하기 때문에 해당 구간의 세율을 적용하여 계산된 금액입니다.', additional_kwargs={'refusal': None}, response_metadata={'token_usage': {'completion_tokens': 58, 'prompt_tokens': 3016, 'total_tokens': 3074, 'completion_tokens_details': {'accepted_prediction_tokens': 0, 'audio_tokens': 0, 'reasoning_tokens': 0, 'rejected_prediction_tokens': 0}, 'prompt_tokens_details': {'audio_tokens': 0, 'cached_tokens': 0}}, 'model_name': 'gpt-4o-2024-08-06', 'system_fingerprint': 'fp_f33640a400', 'finish_reason': 'stop', 'logprobs': None}, id='run--f4f32b0b-344f-4c72-83dd-07747494a755-0', usage_metadata={'input_tokens': 3016, 'output_tokens': 58, 'total_tokens': 3074, 'input_token_details': {'audio': 0, 'cache_read': 0}, 'output_token_details': {'audio': 0, 'reasoning': 0}})}"
      ]
     },
     "execution_count": 20,
     "metadata": {},
     "output_type": "execute_result"
    }
   ],
   "source": [
    "inital_state = {'query': \"연봉 5천만원 직장인의 소득세는 얼마인가요?\"}\n",
    "graph.invoke(inital_state)"
   ]
  },
  {
   "cell_type": "markdown",
   "id": "886af98a",
   "metadata": {},
   "source": [
    "### 부동산세법 Agent"
   ]
  },
  {
   "cell_type": "code",
   "execution_count": 19,
   "id": "3cf996d9",
   "metadata": {},
   "outputs": [
    {
     "name": "stdout",
     "output_type": "stream",
     "text": [
      "route: estate_collection\n"
     ]
    },
    {
     "data": {
      "text/plain": [
       "{'query': '5억짜리 집 1채, 10억짜리 집 1채, 20억짜리 집 1채를 가지고 있을 때 세금을 얼마나 내나요?',\n",
       " 'answer': '주어진 정보를 바탕으로 종합부동산세를 계산해보겠습니다. 사용자는 총 3채의 주택을 보유하고 있으며, 총 공시가격은 35억 원입니다. 공제금액은 9억 원으로, 과세 대상 금액은 26억 원입니다. 사용자는 3주택 이상을 소유하고 있으므로 이에 대한 세율을 적용해야 합니다.\\n\\n1. **과세표준 계산**:\\n   - 3억 원 이하 부분: 3억 원 × 0.005 = 150만 원\\n   - 3억 원 초과 6억 원 이하 부분: (6억 원 - 3억 원) × 0.007 = 210만 원\\n   - 6억 원 초과 12억 원 이하 부분: (12억 원 - 6억 원) × 0.01 = 600만 원\\n   - 12억 원 초과 25억 원 이하 부분: (25억 원 - 12억 원) × 0.02 = 2,600만 원\\n   - 25억 원 초과 26억 원 이하 부분: (26억 원 - 25억 원) × 0.03 = 30만 원\\n\\n2. **총 세금 계산**:\\n   - 총 세금 = 150만 원 + 210만 원 + 600만 원 + 2,600만 원 + 30만 원 = 3,590만 원\\n\\n따라서, 사용자는 종합부동산세로 총 3,590만 원을 납부해야 합니다.'}"
      ]
     },
     "execution_count": 19,
     "metadata": {},
     "output_type": "execute_result"
    }
   ],
   "source": [
    "inital_state = {'query': \"5억짜리 집 1채, 10억짜리 집 1채, 20억짜리 집 1채를 가지고 있을 때 세금을 얼마나 내나요?\"}\n",
    "graph.invoke(inital_state)\n"
   ]
  }
 ],
 "metadata": {
  "kernelspec": {
   "display_name": "uv-work",
   "language": "python",
   "name": "python3"
  },
  "language_info": {
   "codemirror_mode": {
    "name": "ipython",
    "version": 3
   },
   "file_extension": ".py",
   "mimetype": "text/x-python",
   "name": "python",
   "nbconvert_exporter": "python",
   "pygments_lexer": "ipython3",
   "version": "3.11.9"
  }
 },
 "nbformat": 4,
 "nbformat_minor": 5
}
