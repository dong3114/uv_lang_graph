{
 "cells": [
  {
   "cell_type": "markdown",
   "id": "8a3a11a7",
   "metadata": {},
   "source": [
    "# 모듈 로드"
   ]
  },
  {
   "cell_type": "code",
   "execution_count": 12,
   "id": "4ed3130b",
   "metadata": {},
   "outputs": [
    {
     "data": {
      "text/plain": [
       "True"
      ]
     },
     "execution_count": 12,
     "metadata": {},
     "output_type": "execute_result"
    }
   ],
   "source": [
    "from textwrap import dedent     # tap(들여쓰기)에 상관없이 쓸 수 있게.\n",
    "from pprint import pprint\n",
    "from langgraph.graph import StateGraph, START, END\n",
    "from IPython.display import Image, display\n",
    "from typing import TypedDict, Literal\n",
    "from typing_extensions import List\n",
    "from pydantic import BaseModel, Field\n",
    "from langchain_core.tools import tool\n",
    "import os\n",
    "from dotenv import load_dotenv\n",
    "\n",
    "load_dotenv()"
   ]
  },
  {
   "cell_type": "markdown",
   "id": "3d5ccc22",
   "metadata": {},
   "source": [
    "### LLM 생성"
   ]
  },
  {
   "cell_type": "code",
   "execution_count": 5,
   "id": "08a31fb5",
   "metadata": {},
   "outputs": [],
   "source": [
    "from langchain_openai import ChatOpenAI\n",
    "# 일반적인 질문 llm\n",
    "llm = ChatOpenAI(model=\"gpt-4o\", streaming=True)\n",
    "# 짤막한 질문 llm\n",
    "small_llm = ChatOpenAI(model=\"gpt-4o-mini\", streaming=True)"
   ]
  },
  {
   "cell_type": "markdown",
   "id": "1dc01fa3",
   "metadata": {},
   "source": [
    "### State 선언 (Node) 생성"
   ]
  },
  {
   "cell_type": "code",
   "execution_count": 9,
   "id": "0101ca1b",
   "metadata": {},
   "outputs": [],
   "source": [
    "class StudyTask(BaseModel): # BaseModel을 상속받아 유효성 검사 및 사용성 향상\n",
    "    age: int                # 나이\n",
    "    certificate: str        # 자격증 이름\n",
    "    goal: str               # 목표 (예: 합격, 고득점)\n",
    "    period_days: int        # 총 학습 기간(일 단위)\n",
    "    daily_hours: float      # 하루 공부 가능 시간"
   ]
  },
  {
   "cell_type": "code",
   "execution_count": 10,
   "id": "3978cfbc",
   "metadata": {},
   "outputs": [],
   "source": [
    "class SchedulerState(TypedDict):\n",
    "    tasks: List[StudyTask]  # StudyTask 객체 리스트로 여러 계획 관리\n",
    "    query: str              # 사용자의 현재 질의\n",
    "    answer: str             # Agent의 최종 응답"
   ]
  },
  {
   "cell_type": "markdown",
   "id": "fbb302fd",
   "metadata": {},
   "source": [
    "### 라우팅 포인트 생성"
   ]
  },
  {
   "cell_type": "code",
   "execution_count": null,
   "id": "500b818a",
   "metadata": {},
   "outputs": [],
   "source": [
    "class Route(BaseModel):\n",
    "    target: Literal['create_plan', 'modify_plan', 'web_search', 'end'] = Field(\n",
    "        description=\"사용자 질문을 처리할 적절한 경로\"\n",
    "    )"
   ]
  },
  {
   "cell_type": "markdown",
   "id": "6f1d72d4",
   "metadata": {},
   "source": [
    "### 유저 입력 감지"
   ]
  },
  {
   "cell_type": "code",
   "execution_count": null,
   "id": "fce03bf4",
   "metadata": {},
   "outputs": [],
   "source": [
    "def get_user_qeury(StudyTask) -> StudyTask:\n",
    "    request_age = input(\"나이를 입력해주세요\")\n",
    "    request_certificate=input(\"자격증 이름을 입력해주세요\")\n",
    "    request_goal=input(\"목표 설정해주세요. (예: 합격, 고득점)\")\n",
    "    request_period_days=input(\"총 학습 기간을 설정 해주세요.\")\n",
    "    request_daily_hours=input(\"일일 평균 학습 시간을 설정 해주세요\")\n",
    "    \n",
    "    return {\"age\":request_age, \"certificate\":request_certificate, \"\"}\n",
    "    \n",
    "    \n",
    "    "
   ]
  }
 ],
 "metadata": {
  "kernelspec": {
   "display_name": "uv-work",
   "language": "python",
   "name": "python3"
  },
  "language_info": {
   "codemirror_mode": {
    "name": "ipython",
    "version": 3
   },
   "file_extension": ".py",
   "mimetype": "text/x-python",
   "name": "python",
   "nbconvert_exporter": "python",
   "pygments_lexer": "ipython3",
   "version": "3.11.9"
  }
 },
 "nbformat": 4,
 "nbformat_minor": 5
}
